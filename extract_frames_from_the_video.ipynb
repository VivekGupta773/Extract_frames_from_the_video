{
  "nbformat": 4,
  "nbformat_minor": 0,
  "metadata": {
    "colab": {
      "provenance": [],
      "authorship_tag": "ABX9TyN//jxR5hTeFd1UqVuzRZlj",
      "include_colab_link": true
    },
    "kernelspec": {
      "name": "python3",
      "display_name": "Python 3"
    },
    "language_info": {
      "name": "python"
    }
  },
  "cells": [
    {
      "cell_type": "markdown",
      "metadata": {
        "id": "view-in-github",
        "colab_type": "text"
      },
      "source": [
        "<a href=\"https://colab.research.google.com/github/VivekGupta773/Extract_frames_from_the_video/blob/main/extract_frames_from_the_video.ipynb\" target=\"_parent\"><img src=\"https://colab.research.google.com/assets/colab-badge.svg\" alt=\"Open In Colab\"/></a>"
      ]
    },
    {
      "cell_type": "code",
      "execution_count": 1,
      "metadata": {
        "id": "u1WNi3fxS3hN"
      },
      "outputs": [],
      "source": [
        "# Importing all necessary libraries\n",
        "import cv2\n",
        "import os\n",
        "\n",
        "# Read the video from specified path\n",
        "cam = cv2.VideoCapture(\"/content/test.mp4\")\n",
        "\n",
        "try:\n",
        "\n",
        "\t# creating a folder named data\n",
        "\tif not os.path.exists('data'):\n",
        "\t\tos.makedirs('data')\n",
        "\n",
        "# if not created then raise error\n",
        "except OSError:\n",
        "\tprint ('Error: Creating directory of data')\n",
        "\n",
        "# frame\n",
        "currentframe = 0\n",
        "\n",
        "while(True):\n",
        "\n",
        "\t# reading from frame\n",
        "\tret,frame = cam.read()\n",
        "\n",
        "\tif ret:\n",
        "\t\t# if video is still left continue creating images\n",
        "\t\tname = './data/frame' + str(currentframe) + '.jpg'\n",
        "\t\tprint ('Creating...' + name)\n",
        "\n",
        "\t\t# writing the extracted images\n",
        "\t\tcv2.imwrite(name, frame)\n",
        "\n",
        "\t\t# increasing counter so that it will\n",
        "\t\t# show how many frames are created\n",
        "\t\tcurrentframe += 1\n",
        "\telse:\n",
        "\t\tbreak\n",
        "\n",
        "# Release all space and windows once done\n",
        "cam.release()\n",
        "cv2.destroyAllWindows()\n"
      ]
    }
  ]
}